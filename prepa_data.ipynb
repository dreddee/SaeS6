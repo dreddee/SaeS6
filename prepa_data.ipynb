{
 "cells": [
  {
   "cell_type": "markdown",
   "metadata": {},
   "source": [
    "# Importation"
   ]
  },
  {
   "cell_type": "code",
   "execution_count": 1,
   "metadata": {},
   "outputs": [],
   "source": [
    "import pandas as pd\n",
    "import ast\n",
    "# Création du barplot\n",
    "import seaborn as sns\n",
    "import matplotlib.pyplot as plt\n",
    "#WordCloud\n",
    "from wordcloud import WordCloud\n",
    "import matplotlib.pyplot as plt\n",
    "import nltk\n",
    "from nltk.corpus import stopwords\n",
    "from nltk.tokenize import word_tokenize\n",
    "\n",
    "# Set stop words for English\n",
    "stop_words = set(stopwords.words('english'))"
   ]
  },
  {
   "cell_type": "markdown",
   "metadata": {},
   "source": [
    "# Recupération des données"
   ]
  },
  {
   "cell_type": "code",
   "execution_count": 2,
   "metadata": {},
   "outputs": [],
   "source": [
    "\n",
    "# Lecture du fichier CSV\n",
    "ratingdf = pd.read_csv('Books_rating_t.csv')\n",
    "datadf = pd.read_csv('books_data_t.csv')"
   ]
  },
  {
   "cell_type": "markdown",
   "metadata": {},
   "source": [
    "# Fonction utilitaire"
   ]
  },
  {
   "cell_type": "code",
   "execution_count": 3,
   "metadata": {},
   "outputs": [],
   "source": [
    "def unwindColumns(df,columnsToUnwind):\n",
    "    resdf = df\n",
    "    for col in columnsToUnwind:\n",
    "        resdf[col] = resdf[col].apply(lambda x: ast.literal_eval(x) if isinstance(x, str) and x.startswith('[') else x)\n",
    "        resdf = resdf.explode(col)\n",
    "    return resdf"
   ]
  },
  {
   "cell_type": "code",
   "execution_count": 4,
   "metadata": {},
   "outputs": [],
   "source": [
    "# Remove stop words\n",
    "def remove_stop_words(text):\n",
    "    tokens = word_tokenize(text)  # Tokenize the text\n",
    "    filtered_tokens = [word for word in tokens if word.lower() not in stop_words]\n",
    "    return ' '.join(filtered_tokens)  # Join tokens back into a string"
   ]
  },
  {
   "cell_type": "markdown",
   "metadata": {},
   "source": [
    "# Exploration des données"
   ]
  },
  {
   "cell_type": "code",
   "execution_count": null,
   "metadata": {},
   "outputs": [],
   "source": [
    "ratingdf.head(2)"
   ]
  },
  {
   "cell_type": "code",
   "execution_count": null,
   "metadata": {},
   "outputs": [],
   "source": [
    "datadf.head(2)"
   ]
  },
  {
   "cell_type": "code",
   "execution_count": null,
   "metadata": {},
   "outputs": [],
   "source": [
    "GenreDF = unwindColumns(datadf,['Genre'])\n",
    "print(GenreDF['Genre'].value_counts().to_csv(\"temp.csv\"))"
   ]
  },
  {
   "cell_type": "markdown",
   "metadata": {},
   "source": [
    "# Preparation des donnée"
   ]
  },
  {
   "cell_type": "code",
   "execution_count": null,
   "metadata": {},
   "outputs": [],
   "source": [
    "print(ratingdf.isnull().sum())\n",
    "ratingdf = ratingdf.dropna(subset=['Titre'])\n",
    "print(ratingdf.isnull().sum())\n",
    "print(datadf.isnull().sum())\n",
    "datadf = datadf.dropna(subset=['Titre'])\n",
    "print(datadf.isnull().sum())\n"
   ]
  },
  {
   "cell_type": "code",
   "execution_count": null,
   "metadata": {},
   "outputs": [],
   "source": [
    "merged_df = pd.merge(ratingdf, datadf, on='Titre')\n",
    "merged_df.shape\n",
    "merged_df.head(2)"
   ]
  },
  {
   "cell_type": "markdown",
   "metadata": {},
   "source": [
    "# Distrubution en fonction des genres"
   ]
  },
  {
   "cell_type": "code",
   "execution_count": 10,
   "metadata": {},
   "outputs": [],
   "source": [
    "GenreDF = unwindColumns(datadf,['Genre'])\n",
    "genre_counts = GenreDF['Genre'].value_counts()\n",
    "\n",
    "# Transformer en DataFrame\n",
    "genre_counts_df = genre_counts.reset_index()\n",
    "\n",
    "# Renommer les colonnes pour une meilleure lisibilité\n",
    "genre_counts_df.columns = ['Genre', 'Nombre de livres']\n",
    "\n",
    "# Afficher le DataFrame\n",
    "genre_counts_df.to_csv(\"distribution_livre.csv\")"
   ]
  },
  {
   "cell_type": "code",
   "execution_count": null,
   "metadata": {},
   "outputs": [],
   "source": [
    "N = 20  # Ajuster selon vos besoins\n",
    "top_genres = GenreDF['Genre'].value_counts().nlargest(N)\n",
    "\n",
    "plt.figure(figsize=(12, 6))\n",
    "sns.barplot(x=top_genres.index, y=top_genres.values)\n",
    "plt.title(f'Top {N} genres les plus fréquents')\n",
    "plt.xticks(rotation=45, ha='right')\n",
    "plt.tight_layout()"
   ]
  },
  {
   "cell_type": "markdown",
   "metadata": {},
   "source": [
    "# Word Cloud Mot les plus frequents"
   ]
  },
  {
   "cell_type": "code",
   "execution_count": null,
   "metadata": {},
   "outputs": [],
   "source": [
    "# 2. Les mots les plus fréquents dans les revues ayant obtenues un score >5\n",
    "# (afficher sous forme de WordCloud)\n",
    "\n",
    "\n",
    "commentaire =ratingdf[ratingdf['revue/score'] ==5]['revue/texte'].values\n",
    "cleaned_commentaire = [remove_stop_words(comment) for comment in commentaire]"
   ]
  },
  {
   "cell_type": "code",
   "execution_count": null,
   "metadata": {},
   "outputs": [],
   "source": [
    "text = ' '.join(map(str, cleaned_commentaire))"
   ]
  },
  {
   "cell_type": "code",
   "execution_count": null,
   "metadata": {},
   "outputs": [],
   "source": [
    "wordcloud = WordCloud(\n",
    "    width=1600, \n",
    "    height=800,\n",
    "    background_color='white',\n",
    "    stopwords=set(stopwords.words('english')),\n",
    "    max_words=100\n",
    ").generate(text)\n",
    "plt.figure(figsize=(20,10))\n",
    "plt.imshow(wordcloud, interpolation='bilinear')\n",
    "plt.axis('off')\n",
    "plt.title('Word Cloud des Revues 5 étoiles', fontsize=20)\n",
    "plt.show()"
   ]
  },
  {
   "cell_type": "markdown",
   "metadata": {},
   "source": [
    "# Livres les plus commenté"
   ]
  },
  {
   "cell_type": "code",
   "execution_count": null,
   "metadata": {},
   "outputs": [],
   "source": [
    "N = 20  # Ajuster selon vos besoins\n",
    "top_genres = ratingdf['Titre'].value_counts().nlargest(N)\n",
    "\n",
    "plt.figure(figsize=(12, 6))\n",
    "sns.barplot(x=top_genres.index, y=top_genres.values)\n",
    "plt.title(f'Top {N} genres les plus fréquents')\n",
    "plt.xticks(rotation=45, ha='right')\n",
    "plt.tight_layout()"
   ]
  },
  {
   "cell_type": "markdown",
   "metadata": {},
   "source": [
    "# Livres les mieux noté"
   ]
  },
  {
   "cell_type": "code",
   "execution_count": null,
   "metadata": {},
   "outputs": [],
   "source": [
    "# Calculer la moyenne de chaque colonne pour chaque genre\n",
    "average_by_title = ratingdf.groupby('Titre')['revue/score'].mean().nlargest(N)\n",
    "\n",
    "average_by_title"
   ]
  },
  {
   "cell_type": "code",
   "execution_count": null,
   "metadata": {},
   "outputs": [],
   "source": [
    "from sklearn.preprocessing import OrdinalEncoder\n",
    "from sklearn.model_selection import train_test_split\n",
    "\n",
    "# Séparation des features (X) et de la target (y)\n",
    "X = merged_df.drop(columns=['revue/score'])\n",
    "y = merged_df['revue/score']\n",
    "le = OrdinalEncoder()\n",
    "for colonne in X.select_dtypes(include=['object']).columns:\n",
    "    X[[colonne]] = le.fit_transform(X[[colonne]])\n",
    "X_train, X_test, y_train, y_test = train_test_split(X, y, test_size=0.2, random_state=42)\n",
    "# Aperçu des données encodées\n",
    "print(\"Aperçu des données encodées :\")\n",
    "X.head()\n"
   ]
  },
  {
   "cell_type": "code",
   "execution_count": null,
   "metadata": {},
   "outputs": [],
   "source": [
    "# 8. Existe t-il une corrélation entre l’éditeur et le commentaire (score)\n",
    "# 9. Existe-t-il une corrélation entre les auteurs et le commentaire (score).\n",
    "\n",
    "# Créer la matrice de corrélation\n",
    "import seaborn as sns\n",
    "import matplotlib.pyplot as plt\n",
    "\n",
    "correlation_matrix = X_train.corr()\n",
    "\n",
    "plt.figure(figsize=(12, 10))\n",
    "sns.heatmap(correlation_matrix, \n",
    "            annot=True,        \n",
    "            cmap='coolwarm',   \n",
    "            center=0,         \n",
    "            fmt='.2f')   \n",
    "\n",
    "\n",
    "plt.tight_layout()\n",
    "plt.show()"
   ]
  },
  {
   "cell_type": "code",
   "execution_count": null,
   "metadata": {},
   "outputs": [],
   "source": [
    "merged_df.head(2)"
   ]
  },
  {
   "cell_type": "code",
   "execution_count": null,
   "metadata": {},
   "outputs": [],
   "source": []
  }
 ],
 "metadata": {
  "kernelspec": {
   "display_name": "Python 3",
   "language": "python",
   "name": "python3"
  },
  "language_info": {
   "codemirror_mode": {
    "name": "ipython",
    "version": 3
   },
   "file_extension": ".py",
   "mimetype": "text/x-python",
   "name": "python",
   "nbconvert_exporter": "python",
   "pygments_lexer": "ipython3",
   "version": "3.10.11"
  }
 },
 "nbformat": 4,
 "nbformat_minor": 2
}
