{
 "cells": [
  {
   "cell_type": "code",
   "execution_count": 1,
   "metadata": {},
   "outputs": [],
   "source": [
    "import pandas as pd\n",
    "import numpy as np\n",
    "from sklearn.feature_extraction.text import CountVectorizer\n",
    "from sklearn.feature_extraction.text import TfidfVectorizer\n",
    "from sklearn.ensemble import RandomForestClassifier\n",
    "from sklearn.neighbors import KNeighborsClassifier\n",
    "from sklearn.model_selection import train_test_split\n",
    "from transformers import BertTokenizer, BertModel\n",
    "from scipy.sparse import csr_matrix\n",
    "from sklearn.metrics import accuracy_score\n",
    "import torch\n",
    "import os\n",
    "\n",
    "from transformers import BertTokenizer"
   ]
  },
  {
   "cell_type": "code",
   "execution_count": 2,
   "metadata": {},
   "outputs": [],
   "source": [
    "Generation_folder = \"generated\""
   ]
  },
  {
   "cell_type": "markdown",
   "metadata": {},
   "source": [
    "# avent apprentisage"
   ]
  },
  {
   "cell_type": "code",
   "execution_count": 17,
   "metadata": {},
   "outputs": [],
   "source": [
    "def get_bert_latent_representation(textList,tokenizer,model):\n",
    "    inputs = tokenizer(textList, return_tensors='pt', padding=True, truncation=True, max_length=512)\n",
    "    with torch.no_grad():\n",
    "        outputs = model(**inputs)\n",
    "    \n",
    "    cls_embedding = outputs.last_hidden_state[:, 0, :]\n",
    "    \n",
    "    return cls_embedding\n",
    "\n"
   ]
  },
  {
   "cell_type": "code",
   "execution_count": 4,
   "metadata": {},
   "outputs": [
    {
     "name": "stderr",
     "output_type": "stream",
     "text": [
      "Some weights of the model checkpoint at bert-base-uncased were not used when initializing BertModel: ['cls.predictions.transform.dense.bias', 'cls.predictions.decoder.weight', 'cls.predictions.transform.LayerNorm.weight', 'cls.seq_relationship.bias', 'cls.predictions.transform.dense.weight', 'cls.predictions.transform.LayerNorm.bias', 'cls.predictions.bias', 'cls.seq_relationship.weight']\n",
      "- This IS expected if you are initializing BertModel from the checkpoint of a model trained on another task or with another architecture (e.g. initializing a BertForSequenceClassification model from a BertForPreTraining model).\n",
      "- This IS NOT expected if you are initializing BertModel from the checkpoint of a model that you expect to be exactly identical (initializing a BertForSequenceClassification model from a BertForSequenceClassification model).\n"
     ]
    }
   ],
   "source": [
    "tokenizer = BertTokenizer.from_pretrained('bert-base-uncased')\n",
    "model = BertModel.from_pretrained('bert-base-uncased')\n",
    "embedded_dict = {\n",
    "    \"simple\": lambda data : get_bert_latent_representation(data,tokenizer,model)\n",
    "}"
   ]
  },
  {
   "cell_type": "code",
   "execution_count": 5,
   "metadata": {},
   "outputs": [],
   "source": [
    "def retrieve_embedding(data, method=\"simple\"):\n",
    "    if method in embedded_dict:\n",
    "        return embedded_dict[method](data)\n",
    "    else:\n",
    "        raise Exception(\"Methode non implementé\")"
   ]
  },
  {
   "cell_type": "code",
   "execution_count": 8,
   "metadata": {},
   "outputs": [],
   "source": [
    "ratings = pd.read_csv(os.path.join(Generation_folder, 'ratings_formatted.csv'))"
   ]
  },
  {
   "cell_type": "code",
   "execution_count": 13,
   "metadata": {},
   "outputs": [],
   "source": [
    "sample_text = ratings.head(10)"
   ]
  },
  {
   "cell_type": "code",
   "execution_count": 14,
   "metadata": {},
   "outputs": [
    {
     "data": {
      "text/plain": [
       "['Nice collection of Julie Strain images',\n",
       " 'Really Enjoyed It',\n",
       " 'Essential for every personal and Public Library',\n",
       " 'Phlip Nel gives silly Seuss a serious treatment',\n",
       " 'Good academic overview',\n",
       " \"One of America's greatest creative talents\",\n",
       " \"A memorably excellent survey of Dr. Seuss' many achievements\",\n",
       " \"Academia At It's Best\",\n",
       " 'And to think that I read it on the tram!',\n",
       " 'Fascinating account of a genius at work']"
      ]
     },
     "execution_count": 14,
     "metadata": {},
     "output_type": "execute_result"
    }
   ],
   "source": [
    "sample_text['summary'].values.tolist()"
   ]
  },
  {
   "cell_type": "code",
   "execution_count": 21,
   "metadata": {},
   "outputs": [
    {
     "data": {
      "text/plain": [
       "10"
      ]
     },
     "execution_count": 21,
     "metadata": {},
     "output_type": "execute_result"
    }
   ],
   "source": [
    "latent_representation = embedded_dict[\"simple\"](sample_text['summary'].values.tolist())\n",
    "len(latent_representation)"
   ]
  },
  {
   "cell_type": "code",
   "execution_count": null,
   "metadata": {},
   "outputs": [],
   "source": [
    "sample_text['summary'] = embedded_dict[\"simple\"](sample_text['summary'].values.tolist())\n",
    "sample_text['comment'] = embedded_dict[\"simple\"](sample_text['comment'].values.tolist())\n",
    "sample_text['summary'].head(2)"
   ]
  },
  {
   "cell_type": "code",
   "execution_count": 28,
   "metadata": {},
   "outputs": [],
   "source": [
    "ratings =ratings.drop(columns=['Titre'])\n"
   ]
  },
  {
   "cell_type": "code",
   "execution_count": 29,
   "metadata": {},
   "outputs": [],
   "source": [
    "X_simple = ratings.drop(columns=['rating'])\n",
    "Y_simple = ratings['rating'] "
   ]
  },
  {
   "cell_type": "code",
   "execution_count": 30,
   "metadata": {},
   "outputs": [
    {
     "name": "stdout",
     "output_type": "stream",
     "text": [
      "   summary_0  summary_1  summary_2  summary_3  summary_4  summary_5  \\\n",
      "0        0.0        0.0        0.0        0.0        0.0        0.0   \n",
      "1        0.0        0.0        0.0        0.0        0.0        0.0   \n",
      "\n",
      "   summary_6  summary_7  summary_8  summary_9  ...  summary_990  summary_991  \\\n",
      "0        0.0        0.0        0.0        0.0  ...          0.0          0.0   \n",
      "1        0.0        0.0        0.0        0.0  ...          0.0          0.0   \n",
      "\n",
      "   summary_992  summary_993  summary_994  summary_995  summary_996  \\\n",
      "0          0.0          0.0          0.0          0.0          0.0   \n",
      "1          0.0          0.0          0.0          0.0          0.0   \n",
      "\n",
      "   summary_997  summary_998  summary_999  \n",
      "0          0.0          0.0          0.0  \n",
      "1          0.0          0.0          0.0  \n",
      "\n",
      "[2 rows x 1000 columns]\n",
      "   comment_0  comment_1  comment_2  comment_3  comment_4  comment_5  \\\n",
      "0        0.0        0.0        0.0        0.0        0.0        0.0   \n",
      "1        0.0        0.0        0.0        0.0        0.0        0.0   \n",
      "\n",
      "   comment_6  comment_7  comment_8  comment_9  ...  comment_990  comment_991  \\\n",
      "0        0.0        0.0        0.0        0.0  ...          0.0          0.0   \n",
      "1        0.0        0.0        0.0        0.0  ...          0.0          0.0   \n",
      "\n",
      "   comment_992  comment_993  comment_994  comment_995  comment_996  \\\n",
      "0     0.207759          0.0          0.0          0.0          0.0   \n",
      "1     0.000000          0.0          0.0          0.0          0.0   \n",
      "\n",
      "   comment_997  comment_998  comment_999  \n",
      "0          0.0          0.0          0.0  \n",
      "1          0.0          0.0          0.0  \n",
      "\n",
      "[2 rows x 1000 columns]\n"
     ]
    }
   ],
   "source": [
    "# 1. Convertir les colonnes matrices en colonnes individuelles\n",
    "def expand_matrix_column(df, column_name):\n",
    "    # Convertir la liste de listes en array numpy\n",
    "    matrix = np.array(df[column_name].tolist())\n",
    "    # Créer des noms de colonnes\n",
    "    column_names = [f\"{column_name}_{i}\" for i in range(matrix.shape[1])]\n",
    "    # Retourner un nouveau DataFrame avec les colonnes expandées\n",
    "    print(pd.DataFrame(matrix, columns=column_names).head(2))\n",
    "    return pd.DataFrame(matrix, columns=column_names)\n",
    "\n",
    "# 2. Appliquer la transformation sur chaque colonne contenant une matrice\n",
    "X_expanded = pd.concat([\n",
    "    expand_matrix_column(ratings, 'summary'),\n",
    "    expand_matrix_column(ratings, 'comment')\n",
    "], axis=1)\n"
   ]
  },
  {
   "cell_type": "markdown",
   "metadata": {},
   "source": [
    "# model"
   ]
  },
  {
   "cell_type": "markdown",
   "metadata": {},
   "source": [
    "## RandomForestClassifier"
   ]
  },
  {
   "cell_type": "code",
   "execution_count": 35,
   "metadata": {},
   "outputs": [
    {
     "name": "stdout",
     "output_type": "stream",
     "text": [
      "Random Forest Accuracy: 0.59\n"
     ]
    }
   ],
   "source": [
    "# 3. Maintenant on peut utiliser ces données pour l'entraînement\n",
    "X_simple_train, X_simple_test, y_simple_train, y_simple_test = train_test_split(X_expanded, Y_simple, test_size=0.2)\n",
    "model_rf = RandomForestClassifier(n_estimators=100)\n",
    "model_rf.fit(X_simple_train, y_simple_train)\n",
    "\n",
    "# Prédiction et évaluation\n",
    "y_pred = model_rf.predict(X_simple_test)\n",
    "accuracy = accuracy_score(y_simple_test, y_pred)\n",
    "print(f'Random Forest Accuracy: {accuracy:.2f}')\n"
   ]
  },
  {
   "cell_type": "markdown",
   "metadata": {},
   "source": [
    "## KNN"
   ]
  },
  {
   "cell_type": "code",
   "execution_count": 36,
   "metadata": {},
   "outputs": [
    {
     "name": "stdout",
     "output_type": "stream",
     "text": [
      "Random Forest Accuracy: 0.57\n"
     ]
    }
   ],
   "source": [
    "# 3. Maintenant on peut utiliser ces données pour l'entraînement\n",
    "X_simple_train, X_simple_test, y_simple_train, y_simple_test = train_test_split(X_expanded, Y_simple, test_size=0.2)\n",
    "model_rf = KNeighborsClassifier(n_neighbors=5)\n",
    "model_rf.fit(X_simple_train, y_simple_train)\n",
    "\n",
    "# Prédiction et évaluation\n",
    "y_pred = model_rf.predict(X_simple_test)\n",
    "accuracy = accuracy_score(y_simple_test, y_pred)\n",
    "print(f'Random Forest Accuracy: {accuracy:.2f}')\n"
   ]
  }
 ],
 "metadata": {
  "kernelspec": {
   "display_name": "base",
   "language": "python",
   "name": "python3"
  },
  "language_info": {
   "codemirror_mode": {
    "name": "ipython",
    "version": 3
   },
   "file_extension": ".py",
   "mimetype": "text/x-python",
   "name": "python",
   "nbconvert_exporter": "python",
   "pygments_lexer": "ipython3",
   "version": "3.9.19"
  }
 },
 "nbformat": 4,
 "nbformat_minor": 2
}
