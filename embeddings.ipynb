{
 "cells": [
  {
   "cell_type": "code",
   "execution_count": 17,
   "metadata": {},
   "outputs": [],
   "source": [
    "#pip install transformers"
   ]
  },
  {
   "cell_type": "code",
   "execution_count": 18,
   "metadata": {},
   "outputs": [],
   "source": [
    "import pandas as pd\n",
    "import numpy as np\n",
    "from sklearn.feature_extraction.text import CountVectorizer\n",
    "from sklearn.feature_extraction.text import TfidfVectorizer\n",
    "from transformers import BertTokenizer, BertModel\n",
    "import torch"
   ]
  },
  {
   "cell_type": "code",
   "execution_count": 19,
   "metadata": {},
   "outputs": [],
   "source": [
    "ratings = pd.read_csv('ratings_formatted.csv')"
   ]
  },
  {
   "cell_type": "code",
   "execution_count": 20,
   "metadata": {},
   "outputs": [],
   "source": [
    "\n",
    "comments_short = ratings['summary'].dropna().head(100000).values"
   ]
  },
  {
   "cell_type": "markdown",
   "metadata": {},
   "source": []
  },
  {
   "cell_type": "code",
   "execution_count": 21,
   "metadata": {},
   "outputs": [
    {
     "data": {
      "text/plain": [
       "array(['Nice collection of Julie Strain images', 'Really Enjoyed It',\n",
       "       'Essential for every personal and Public Library', ...,\n",
       "       'Highly suggested for beginners',\n",
       "       'Good for the beginner, nice paper for the experienced',\n",
       "       'Greate Activity Book for Kids'], dtype=object)"
      ]
     },
     "execution_count": 21,
     "metadata": {},
     "output_type": "execute_result"
    }
   ],
   "source": [
    "comments_short"
   ]
  },
  {
   "cell_type": "markdown",
   "metadata": {},
   "source": [
    "# Mots simples"
   ]
  },
  {
   "cell_type": "code",
   "execution_count": null,
   "metadata": {},
   "outputs": [],
   "source": []
  },
  {
   "cell_type": "code",
   "execution_count": 22,
   "metadata": {},
   "outputs": [],
   "source": [
    "size_vocabulary = 1000\n",
    "vectorizer = CountVectorizer(stop_words = \"english\", max_features = size_vocabulary)"
   ]
  },
  {
   "cell_type": "code",
   "execution_count": 23,
   "metadata": {},
   "outputs": [
    {
     "data": {
      "text/plain": [
       "(100000, 1000)"
      ]
     },
     "execution_count": 23,
     "metadata": {},
     "output_type": "execute_result"
    }
   ],
   "source": [
    "X = vectorizer.fit_transform(comments_short)\n",
    "X.toarray().shape"
   ]
  },
  {
   "cell_type": "markdown",
   "metadata": {},
   "source": [
    "# TF IDF"
   ]
  },
  {
   "cell_type": "code",
   "execution_count": 24,
   "metadata": {},
   "outputs": [],
   "source": [
    "size_vocabulary = 1000\n",
    "vectorizer = TfidfVectorizer(stop_words = \"english\", max_features = size_vocabulary)"
   ]
  },
  {
   "cell_type": "code",
   "execution_count": 25,
   "metadata": {},
   "outputs": [
    {
     "data": {
      "text/plain": [
       "(100000, 1000)"
      ]
     },
     "execution_count": 25,
     "metadata": {},
     "output_type": "execute_result"
    }
   ],
   "source": [
    "X = vectorizer.fit_transform(comments_short)\n",
    "X.toarray().shape"
   ]
  },
  {
   "cell_type": "code",
   "execution_count": 26,
   "metadata": {},
   "outputs": [
    {
     "data": {
      "text/plain": [
       "array(['000', '10', '100', '11', '12', '1491', '1984', '20', '20th', '34',\n",
       "       '451', '65533', 'absolute', 'absolutely', 'account', 'accurate',\n",
       "       'action', 'actually', 'addition', 'adult', 'adults', 'adventure',\n",
       "       'adventures', 'advice', 'age', 'ages', 'ago', 'agree', 'ahead',\n",
       "       'alive', 'amazing', 'amazon', 'america', 'american', 'americans',\n",
       "       'amp', 'amusing', 'analysis', 'ancient', 'anger', 'anti',\n",
       "       'approach', 'april', 'art', 'asimov', 'attention', 'audio',\n",
       "       'audiobook', 'auel', 'austen', 'author', 'authors',\n",
       "       'autobiography', 'available', 'average', 'away', 'awesome',\n",
       "       'awful', 'awsome', 'ayla', 'baby', 'bad', 'baseball', 'based',\n",
       "       'basic', 'basics', 'bear', 'beautiful', 'beautifully', 'beauty',\n",
       "       'beginner', 'beginners', 'beginning', 'believe', 'best', 'better',\n",
       "       'beware', 'biased', 'bible', 'biblical', 'big', 'bilbo',\n",
       "       'biography', 'bit', 'black', 'blackbird', 'boleyn', 'book',\n",
       "       'books', 'boring', 'bother', 'bought', 'boy', 'boys', 'bradbury',\n",
       "       'brain', 'breathtaking', 'brilliant', 'brings', 'brooklyn',\n",
       "       'brother', 'building', 'burn', 'burning', 'business', 'buy',\n",
       "       'came', 'camus', 'cannery', 'captivating', 'care', 'carter',\n",
       "       'case', 'casterbridge', 'cat', 'catholic', 'cave', 'cd',\n",
       "       'censorship', 'century', 'challenging', 'change', 'changed',\n",
       "       'changing', 'chapter', 'character', 'characters', 'charming',\n",
       "       'chi', 'child', 'childhood', 'children', 'chilling', 'choice',\n",
       "       'christian', 'christianity', 'christians', 'christmas', 'church',\n",
       "       'city', 'civil', 'clan', 'class', 'classic', 'classics', 'clear',\n",
       "       'clever', 'close', 'cold', 'collection', 'collector', 'college',\n",
       "       'come', 'comes', 'comic', 'coming', 'commentary', 'common',\n",
       "       'companion', 'compelling', 'complete', 'completely', 'complex',\n",
       "       'comprehensive', 'concept', 'concise', 'condition', 'confusing',\n",
       "       'content', 'continues', 'cookbook', 'cookie', 'cooking', 'cooky',\n",
       "       'cool', 'copy', 'cornwell', 'couldn', 'count', 'course', 'cover',\n",
       "       'creative', 'creepy', 'crime', 'cristo', 'crochet', 'culture',\n",
       "       'cute', 'dark', 'darkness', 'date', 'dated', 'daughter', 'david',\n",
       "       'dawn', 'day', 'days', 'dead', 'deal', 'death', 'decent', 'deep',\n",
       "       'defense', 'definitely', 'definitive', 'delicious', 'delight',\n",
       "       'delightful', 'delivery', 'depressing', 'depth', 'description',\n",
       "       'desert', 'deserves', 'design', 'despite', 'detailed', 'details',\n",
       "       'development', 'diabetes', 'dickens', 'dictionary', 'did', 'didn',\n",
       "       'different', 'difficult', 'disappointed', 'disappointing',\n",
       "       'disappointment', 'discworld', 'disturbing', 'does', 'doesn',\n",
       "       'dog', 'don', 'dont', 'dr', 'dragon', 'drama', 'dream', 'dreams',\n",
       "       'dry', 'dull', 'dummies', 'dune', 'dystopian', 'early', 'earth',\n",
       "       'easy', 'economics', 'edge', 'edition', 'editor', 'education',\n",
       "       'educational', 'effective', 'effort', 'emma', 'emotional',\n",
       "       'empire', 'enchanting', 'encyclopedia', 'end', 'ending',\n",
       "       'engaging', 'english', 'engrossing', 'enjoy', 'enjoyable',\n",
       "       'enjoyed', 'enlightening', 'entertaining', 'epic', 'era', 'eragon',\n",
       "       'errors', 'especially', 'essential', 'esv', 'evil', 'exactly',\n",
       "       'exam', 'example', 'excellent', 'exceptional', 'exciting',\n",
       "       'expect', 'expectations', 'expected', 'experience',\n",
       "       'extraordinary', 'extremely', 'eye', 'eyes', 'fabulous', 'face',\n",
       "       'fact', 'facts', 'fahrenheit', 'fair', 'faith', 'fall', 'falls',\n",
       "       'family', 'fan', 'fans', 'fantastic', 'fantasy', 'far',\n",
       "       'fascinating', 'fast', 'father', 'favorite', 'favorites',\n",
       "       'favourite', 'feel', 'female', 'fi', 'fiction', 'field', 'finally',\n",
       "       'fine', 'finest', 'finish', 'flawed', 'flaws', 'flies', 'follow',\n",
       "       'food', 'forever', 'forget', 'forgotten', 'form', 'format',\n",
       "       'foundation', 'franklin', 'free', 'freedom', 'french', 'fresh',\n",
       "       'friend', 'friends', 'frightening', 'fun', 'funny', 'future',\n",
       "       'game', 'garbage', 'garwood', 'gem', 'general', 'generation',\n",
       "       'genius', 'genre', 'george', 'german', 'gets', 'getting', 'gift',\n",
       "       'girl', 'girls', 'gives', 'glad', 'god', 'gods', 'goes', 'going',\n",
       "       'golden', 'gone', 'good', 'got', 'grade', 'grand', 'great',\n",
       "       'greatest', 'gripping', 'grisham', 'ground', 'growing', 'grows',\n",
       "       'guide', 'guy', 'half', 'halo', 'hand', 'hands', 'happened',\n",
       "       'happy', 'hard', 'hardy', 'harry', 'hate', 'hated', 'haunting',\n",
       "       'haven', 'heart', 'heartwarming', 'heaven', 'hell', 'help',\n",
       "       'helpful', 'henry', 'hero', 'high', 'highly', 'hilarious',\n",
       "       'historical', 'history', 'hit', 'hobbit', 'holmes', 'holy', 'home',\n",
       "       'honest', 'hooked', 'hope', 'horrible', 'horror', 'hot', 'hound',\n",
       "       'house', 'human', 'humanity', 'humor', 'humorous', 'hype', 'idea',\n",
       "       'ideas', 'ii', 'illustrated', 'illustrations', 'imagination',\n",
       "       'imaginative', 'important', 'impressive', 'incomplete',\n",
       "       'incredible', 'incredibly', 'info', 'information', 'informative',\n",
       "       'inside', 'insight', 'insightful', 'insights', 'inspiration',\n",
       "       'inspirational', 'inspired', 'inspiring', 'instead',\n",
       "       'intellectual', 'intelligent', 'interested', 'interesting',\n",
       "       'intriguing', 'intro', 'introduction', 'island', 'isn', 'issues',\n",
       "       'jack', 'james', 'jane', 'java', 'jean', 'jesus', 'jim', 'job',\n",
       "       'john', 'journal', 'journey', 'joy', 'joyce', 'julia', 'julie',\n",
       "       'juror', 'just', 'keeps', 'kerouac', 'key', 'kid', 'kids', 'kind',\n",
       "       'kindle', 'king', 'kings', 'know', 'knowledge', 'known', 'la',\n",
       "       'lacking', 'lacks', 'land', 'language', 'late', 'later', 'laugh',\n",
       "       'learn', 'learned', 'learning', 'leaves', 'left', 'legend',\n",
       "       'lesson', 'lessons', 'let', 'letter', 'level', 'lewis', 'library',\n",
       "       'life', 'light', 'like', 'liked', 'line', 'list', 'listen',\n",
       "       'literary', 'literature', 'little', 'live', 'lives', 'living',\n",
       "       'll', 'logic', 'long', 'look', 'looking', 'looks', 'lord', 'lost',\n",
       "       'lot', 'lots', 'love', 'loved', 'lovely', 'lover', 'lovers',\n",
       "       'loves', 'loving', 'low', 'magic', 'magical', 'magnificent',\n",
       "       'major', 'make', 'makes', 'making', 'man', 'management', 'manual',\n",
       "       'mark', 'mars', 'marvelous', 'mary', 'master', 'masterful',\n",
       "       'masterpiece', 'material', 'matter', 'maybe', 'mayor', 'meaning',\n",
       "       'mediocre', 'meets', 'memoir', 'memories', 'men', 'mere',\n",
       "       'message', 'mice', 'middle', 'mind', 'misleading', 'miss',\n",
       "       'missed', 'missing', 'mixed', 'modern', 'money', 'monte', 'moral',\n",
       "       'morning', 'mother', 'movie', 'moving', 'mr', 'ms', 'murder',\n",
       "       'music', 'mystery', 'narrative', 'nature', 'necessary', 'need',\n",
       "       'needed', 'needs', 'new', 'nice', 'night', 'non', 'novel',\n",
       "       'novels', 'oh', 'ok', 'okay', 'old', 'open', 'opener', 'opening',\n",
       "       'opera', 'opinion', 'order', 'original', 'orwell', 'outdated',\n",
       "       'outstanding', 'overall', 'overrated', 'overview', 'paced',\n",
       "       'packed', 'page', 'pages', 'paolini', 'paper', 'parents', 'pass',\n",
       "       'past', 'patterns', 'people', 'perfect', 'period', 'person',\n",
       "       'personal', 'perspective', 'philosophy', 'photos', 'physics',\n",
       "       'picture', 'pictures', 'piece', 'place', 'plain', 'play',\n",
       "       'pleasant', 'pleased', 'pleasure', 'plot', 'poetic', 'poetry',\n",
       "       'poignant', 'point', 'political', 'politics', 'pond', 'poor',\n",
       "       'poorly', 'portrait', 'possible', 'possibly', 'post', 'potential',\n",
       "       'potter', 'power', 'powerful', 'practical', 'pratchett', 'pre',\n",
       "       'predictable', 'premise', 'present', 'presentation', 'pretty',\n",
       "       'price', 'primer', 'princess', 'print', 'probably', 'problem',\n",
       "       'problems', 'product', 'profound', 'prophetic', 'prose',\n",
       "       'provoking', 'psychology', 'public', 'published', 'purchase',\n",
       "       'pure', 'quality', 'question', 'questions', 'quick', 'quite',\n",
       "       'quot', 'rare', 'rate', 'rated', 'rating', 'read', 'readable',\n",
       "       'reader', 'readers', 'reading', 'reads', 'real', 'realism',\n",
       "       'realistic', 'reality', 'really', 'reason', 'recipes', 'recommend',\n",
       "       'recommended', 'red', 'reference', 'refreshing', 'relationship',\n",
       "       'relevant', 'religion', 'religious', 'remarkable', 'remember',\n",
       "       'repetitive', 'required', 'research', 'researched', 'resource',\n",
       "       'rest', 'revenge', 'review', 'reviews', 'revolution', 'rich',\n",
       "       'ride', 'right', 'rings', 'riveting', 'road', 'rocks', 'romance',\n",
       "       'romantic', 'row', 'rules', 'run', 'running', 'sad', 'saga',\n",
       "       'said', 'satire', 'satisfied', 'satisfying', 'save', 'say', 'says',\n",
       "       'scarlet', 'scary', 'school', 'sci', 'science', 'scifi', 'sea',\n",
       "       'search', 'second', 'secret', 'sedaris', 'seen', 'self', 'seller',\n",
       "       'sense', 'sequel', 'series', 'service', 'set', 'sex', 'sf',\n",
       "       'shakespeare', 'shelters', 'short', 'shows', 'silver', 'simple',\n",
       "       'simply', 'single', 'size', 'skip', 'slavery', 'sleep', 'slow',\n",
       "       'small', 'smart', 'smith', 'social', 'society', 'soldier', 'solid',\n",
       "       'somewhat', 'son', 'sorry', 'soul', 'source', 'south', 'space',\n",
       "       'special', 'spectacular', 'spirit', 'spiritual', 'standard',\n",
       "       'star', 'stars', 'start', 'started', 'starting', 'starts',\n",
       "       'statistics', 'steinbeck', 'step', 'stone', 'stop', 'stories',\n",
       "       'story', 'storytelling', 'strange', 'stranger', 'strong',\n",
       "       'student', 'students', 'study', 'stuff', 'stunning', 'stupid',\n",
       "       'style', 'subject', 'substance', 'success', 'summary', 'summer',\n",
       "       'super', 'superb', 'sure', 'surprise', 'surprised', 'surprising',\n",
       "       'surprisingly', 'survival', 'suspense', 'suspenseful', 'sweet',\n",
       "       'takes', 'tale', 'tales', 'talk', 'teacher', 'teachers',\n",
       "       'teaching', 'technical', 'tedious', 'teens', 'tell', 'telling',\n",
       "       'terrible', 'terrific', 'tess', 'test', 'text', 'textbook',\n",
       "       'thank', 'thanks', 'theology', 'theory', 'thing', 'things',\n",
       "       'think', 'thinking', 'thomas', 'thorough', 'thoroughly', 'thought',\n",
       "       'thoughtful', 'thoughts', 'thriller', 'thrilling', 'thumbs',\n",
       "       'time', 'timeless', 'times', 'title', 'today', 'told', 'tolkien',\n",
       "       'tom', 'tool', 'topic', 'total', 'totally', 'touch', 'touching',\n",
       "       'tough', 'tour', 'town', 'tragedy', 'tragic', 'translation',\n",
       "       'travel', 'treasure', 'treat', 'tree', 'trilogy', 'trip', 'true',\n",
       "       'truly', 'truth', 'try', 'turn', 'turner', 'twain', 'twist',\n",
       "       'type', 'typical', 'ultimate', 'ulysses', 'unbelievable',\n",
       "       'understand', 'understanding', 'unforgettable', 'unique',\n",
       "       'universe', 'unusual', 'uplifting', 'use', 'used', 'useful',\n",
       "       'usual', 'valuable', 'value', 've', 'version', 'victorian', 'view',\n",
       "       'vision', 'vivid', 'voice', 'volume', 'vs', 'wait', 'waiting',\n",
       "       'wake', 'want', 'wanted', 'war', 'warning', 'warriors', 'wars',\n",
       "       'wasn', 'waste', 'watch', 'way', 'ways', 'weak', 'weird',\n",
       "       'welcome', 'west', 'western', 'white', 'wild', 'winner', 'wisdom',\n",
       "       'wish', 'witch', 'witty', 'woman', 'women', 'won', 'wonderful',\n",
       "       'wonderfully', 'word', 'words', 'work', 'works', 'world', 'worst',\n",
       "       'worth', 'worthwhile', 'worthy', 'wow', 'write', 'writer',\n",
       "       'writers', 'writing', 'written', 'wrong', 'wrote', 'wwii', 'year',\n",
       "       'years', 'yes', 'young', 'younger'], dtype=object)"
      ]
     },
     "execution_count": 26,
     "metadata": {},
     "output_type": "execute_result"
    }
   ],
   "source": [
    "vectorizer.get_feature_names_out()"
   ]
  },
  {
   "cell_type": "markdown",
   "metadata": {},
   "source": [
    "# Bert embbeding"
   ]
  },
  {
   "cell_type": "code",
   "execution_count": 27,
   "metadata": {},
   "outputs": [
    {
     "name": "stderr",
     "output_type": "stream",
     "text": [
      "Some weights of the model checkpoint at bert-base-uncased were not used when initializing BertModel: ['cls.predictions.transform.LayerNorm.bias', 'cls.seq_relationship.bias', 'cls.seq_relationship.weight', 'cls.predictions.bias', 'cls.predictions.transform.LayerNorm.weight', 'cls.predictions.transform.dense.weight', 'cls.predictions.transform.dense.bias', 'cls.predictions.decoder.weight']\n",
      "- This IS expected if you are initializing BertModel from the checkpoint of a model trained on another task or with another architecture (e.g. initializing a BertForSequenceClassification model from a BertForPreTraining model).\n",
      "- This IS NOT expected if you are initializing BertModel from the checkpoint of a model that you expect to be exactly identical (initializing a BertForSequenceClassification model from a BertForSequenceClassification model).\n"
     ]
    }
   ],
   "source": [
    "    \n",
    "def get_bert_latent_representation(text,model,tokenizer):\n",
    "   \n",
    "    inputs = tokenizer(text, return_tensors='pt', truncation=True, max_length=512)\n",
    "    with torch.no_grad():\n",
    "        outputs = model(**inputs)\n",
    "    \n",
    "    cls_embedding = outputs.last_hidden_state[:, 0, :]\n",
    "    \n",
    "    return cls_embedding\n",
    "\n",
    "tokenizer = BertTokenizer.from_pretrained('bert-base-uncased')\n",
    "model = BertModel.from_pretrained('bert-base-uncased')"
   ]
  },
  {
   "cell_type": "code",
   "execution_count": 28,
   "metadata": {},
   "outputs": [
    {
     "name": "stdout",
     "output_type": "stream",
     "text": [
      "Latent representation shape: torch.Size([1, 768])\n"
     ]
    }
   ],
   "source": [
    "sample_text = comments_short[0]\n",
    "latent_representation = get_bert_latent_representation(sample_text,model,tokenizer)\n",
    "print(\"Latent representation shape:\", latent_representation.shape)"
   ]
  },
  {
   "cell_type": "code",
   "execution_count": null,
   "metadata": {},
   "outputs": [],
   "source": []
  }
 ],
 "metadata": {
  "kernelspec": {
   "display_name": "base",
   "language": "python",
   "name": "python3"
  },
  "language_info": {
   "codemirror_mode": {
    "name": "ipython",
    "version": 3
   },
   "file_extension": ".py",
   "mimetype": "text/x-python",
   "name": "python",
   "nbconvert_exporter": "python",
   "pygments_lexer": "ipython3",
   "version": "3.9.19"
  }
 },
 "nbformat": 4,
 "nbformat_minor": 2
}
