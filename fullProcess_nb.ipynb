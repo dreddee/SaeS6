{
 "cells": [
  {
   "cell_type": "markdown",
   "metadata": {},
   "source": [
    "# Importation"
   ]
  },
  {
   "cell_type": "code",
   "execution_count": 124,
   "metadata": {},
   "outputs": [],
   "source": [
    "import pandas as pd\n",
    "from tqdm import tqdm\n",
    "import numpy as np\n",
    "from sklearn.feature_extraction.text import CountVectorizer\n",
    "from sklearn.feature_extraction.text import TfidfVectorizer\n",
    "from sklearn.ensemble import RandomForestClassifier\n",
    "from sklearn.model_selection import train_test_split\n",
    "from transformers import BertTokenizer, BertModel\n",
    "from scipy.sparse import csr_matrix\n",
    "from sklearn.metrics import accuracy_score\n",
    "import torch\n",
    "import os\n",
    "\n",
    "from sklearn.ensemble import RandomForestClassifier, GradientBoostingClassifier\n",
    "from sklearn.neighbors import KNeighborsClassifier\n",
    "from sklearn.naive_bayes import MultinomialNB\n",
    "from sklearn.linear_model import LogisticRegression\n",
    "from sklearn.tree import DecisionTreeClassifier\n",
    "from sklearn.neural_network import MLPClassifier\n",
    "from sklearn.metrics import accuracy_score, f1_score\n",
    "import time"
   ]
  },
  {
   "cell_type": "markdown",
   "metadata": {},
   "source": [
    "# Fonction d'embedding"
   ]
  },
  {
   "cell_type": "code",
   "execution_count": 125,
   "metadata": {},
   "outputs": [],
   "source": [
    "def retrieve_simple(data,model=None):\n",
    "    size_vocabulary = 1000\n",
    "    X = None\n",
    "    if model :\n",
    "        X = model.transform(data)\n",
    "    else:\n",
    "        model = CountVectorizer(stop_words = \"english\", max_features = size_vocabulary,ngram_range=(1, 2))\n",
    "        X = model.fit_transform(data)\n",
    "    return X,model"
   ]
  },
  {
   "cell_type": "code",
   "execution_count": 126,
   "metadata": {},
   "outputs": [],
   "source": [
    "def retrieve_tf_idf(data,model=None):\n",
    "    size_vocabulary = 1000\n",
    "    X = None\n",
    "    if model :\n",
    "        X = model.transform(data)\n",
    "    else:\n",
    "        model = TfidfVectorizer(stop_words = \"english\", max_features = size_vocabulary,ngram_range=(1, 2))\n",
    "        X = model.fit_transform(data)\n",
    "    return X,model"
   ]
  },
  {
   "cell_type": "code",
   "execution_count": 127,
   "metadata": {},
   "outputs": [],
   "source": [
    "embedded_dict = {\n",
    "    \"simple\": retrieve_simple,\n",
    "    \"tf_idf\": retrieve_tf_idf\n",
    "}"
   ]
  },
  {
   "cell_type": "markdown",
   "metadata": {},
   "source": [
    "# Fonction de model"
   ]
  },
  {
   "cell_type": "code",
   "execution_count": 128,
   "metadata": {},
   "outputs": [],
   "source": [
    "model_dict = {\n",
    "    \"RandomForest\": (lambda : RandomForestClassifier(n_estimators=100)),\n",
    "    \"GradienBoost\": (lambda : GradientBoostingClassifier(n_estimators=100))\n",
    "}"
   ]
  },
  {
   "cell_type": "code",
   "execution_count": 129,
   "metadata": {},
   "outputs": [],
   "source": [
    "def process_model(X,Y,model=None):\n",
    "    if model in model_dict:\n",
    "        model = model_dict[model]()\n",
    "    \n",
    "    model.fit(X, Y)\n",
    "    return model"
   ]
  },
  {
   "cell_type": "markdown",
   "metadata": {},
   "source": [
    "# Fonction utilitaires"
   ]
  },
  {
   "cell_type": "code",
   "execution_count": 130,
   "metadata": {},
   "outputs": [],
   "source": [
    "def expand_matrix_column(df, column_name):\n",
    "    # Convertir la liste de listes en array numpy\n",
    "    matrix = np.array(df[column_name].tolist())\n",
    "    # Créer des noms de colonnes\n",
    "    column_names = [f\"{column_name}_{i}\" for i in range(matrix.shape[1])]\n",
    "    # Retourner un nouveau DataFrame avec les colonnes expandées\n",
    "    return pd.DataFrame(matrix, columns=column_names)"
   ]
  },
  {
   "cell_type": "code",
   "execution_count": 131,
   "metadata": {},
   "outputs": [],
   "source": [
    "def BatchDataframe(df, Batch_size):\n",
    "    \"\"\"\n",
    "    Renvoie une liste de sous-DataFrames en batchs de taille Batch_size, après mélange des données.\n",
    "\n",
    "    Paramètres :\n",
    "    df : pandas.DataFrame\n",
    "        Le DataFrame à diviser en lots.\n",
    "    Batch_size : int\n",
    "        La taille de chaque lot.\n",
    "\n",
    "    Retour :\n",
    "    list of pandas.DataFrame\n",
    "        Une liste de DataFrames contenant les lots mélangés.\n",
    "    \"\"\"\n",
    "    \n",
    "    # Diviser en batchs\n",
    "    batches = [df.iloc[i:i + Batch_size] for i in range(0, len(df), Batch_size)]\n",
    "    \n",
    "    return batches"
   ]
  },
  {
   "cell_type": "code",
   "execution_count": 132,
   "metadata": {},
   "outputs": [],
   "source": [
    "def PreProcess(data,embedding,summary_embedded_model,comment_embedded_model):\n",
    "    summary_matrix, summary_embedded_model = embedded_dict[embedding](data['summary'],summary_embedded_model)\n",
    "    comment_matrix, comment_embedded_model = embedded_dict[embedding](data['comment'],comment_embedded_model)\n",
    "    \n",
    "    data['summary'] = list(summary_matrix.toarray())\n",
    "    data['comment'] = list(comment_matrix.toarray())\n",
    "\n",
    "    data = data.drop(columns=['Titre']) # A faire plus tot\n",
    "\n",
    "    X_simple = data.drop(columns=['rating'])\n",
    "    Y_simple = data['rating'] \n",
    "\n",
    "    X_add = pd.concat([\n",
    "                    expand_matrix_column(data, 'summary'),\n",
    "                    expand_matrix_column(data, 'comment')\n",
    "                ], axis=1)\n",
    "    \n",
    "    X_simple.drop(columns=['summary', 'comment'])\n",
    "\n",
    "    X_expanded = pd.concat([\n",
    "                    X_simple,\n",
    "                    X_add\n",
    "                ], axis=1)\n",
    "    return X_add, Y_simple, summary_embedded_model, comment_embedded_model"
   ]
  },
  {
   "cell_type": "markdown",
   "metadata": {},
   "source": [
    "# Process complet"
   ]
  },
  {
   "cell_type": "code",
   "execution_count": 135,
   "metadata": {},
   "outputs": [],
   "source": [
    "def BatchProcess(data,embedding=\"simple\",model=\"RandomForest\",BatchSize=3000):\n",
    "    data_train, data_test = train_test_split(data, test_size=0.2)\n",
    "\n",
    "    batch_train = BatchDataframe(data_train,BatchSize)\n",
    "\n",
    "    summary_embedded_model = None\n",
    "    comment_embedded_model = None\n",
    "    model_chosen = model\n",
    "\n",
    "    print(\"Training the model:\")\n",
    "    for true_batch in tqdm(batch_train, desc=\"Training Progress\"):\n",
    "        batch = true_batch.copy()\n",
    "\n",
    "        X_expanded,Y_simple,summary_embedded_model,comment_embedded_model = PreProcess(batch,embedding,summary_embedded_model,comment_embedded_model)\n",
    "        \n",
    "        model_chosen = process_model(X_expanded,Y_simple,model_chosen)\n",
    "    \n",
    "    accuracy_process = np.array([])\n",
    "\n",
    "\n",
    "    batch_test = BatchDataframe(data_train,BatchSize)\n",
    "    print(\"\\nEvaluating the model:\")\n",
    "    for true_batch in tqdm(batch_test, desc=\"Evaluation Progress\"):\n",
    "        batch = true_batch.copy()\n",
    "\n",
    "        X_expanded,Y_simple,summary_embedded_model,comment_embedded_model = PreProcess(batch,embedding,summary_embedded_model,comment_embedded_model)\n",
    "\n",
    "        y_pred = model_chosen.predict(X_expanded)\n",
    "        accuracy = accuracy_score(Y_simple, y_pred)\n",
    "        accuracy_process = np.append(accuracy_process,accuracy)\n",
    "\n",
    "    print(f'Model Accuracy: {np.mean(accuracy_process):.2f}')\n",
    "    return model_chosen"
   ]
  },
  {
   "cell_type": "code",
   "execution_count": 120,
   "metadata": {},
   "outputs": [],
   "source": [
    "ratings = pd.read_csv(os.path.join(Generation_folder, 'ratings_formatted.csv')).dropna(subset=['summary']).dropna(subset=['comment']).head(8000)"
   ]
  },
  {
   "cell_type": "code",
   "execution_count": 136,
   "metadata": {},
   "outputs": [
    {
     "name": "stdout",
     "output_type": "stream",
     "text": [
      "Training the model:\n"
     ]
    },
    {
     "name": "stderr",
     "output_type": "stream",
     "text": [
      "Training Progress: 100%|██████████| 4/4 [00:07<00:00,  1.78s/it]\n"
     ]
    },
    {
     "name": "stdout",
     "output_type": "stream",
     "text": [
      "\n",
      "Evaluating the model:\n"
     ]
    },
    {
     "name": "stderr",
     "output_type": "stream",
     "text": [
      "Evaluation Progress:  25%|██▌       | 1/4 [00:00<00:01,  2.57it/s]"
     ]
    },
    {
     "name": "stdout",
     "output_type": "stream",
     "text": [
      "0.7685\n"
     ]
    },
    {
     "name": "stderr",
     "output_type": "stream",
     "text": [
      "Evaluation Progress:  50%|█████     | 2/4 [00:00<00:00,  2.54it/s]"
     ]
    },
    {
     "name": "stdout",
     "output_type": "stream",
     "text": [
      "0.767\n"
     ]
    },
    {
     "name": "stderr",
     "output_type": "stream",
     "text": [
      "Evaluation Progress: 100%|██████████| 4/4 [00:01<00:00,  3.13it/s]"
     ]
    },
    {
     "name": "stdout",
     "output_type": "stream",
     "text": [
      "0.764\n",
      "0.9975\n",
      "Model Accuracy: 0.82\n"
     ]
    },
    {
     "name": "stderr",
     "output_type": "stream",
     "text": [
      "\n"
     ]
    },
    {
     "data": {
      "text/plain": [
       "RandomForestClassifier()"
      ]
     },
     "execution_count": 136,
     "metadata": {},
     "output_type": "execute_result"
    }
   ],
   "source": [
    "BatchProcess(ratings,BatchSize=2000)"
   ]
  },
  {
   "cell_type": "code",
   "execution_count": null,
   "metadata": {},
   "outputs": [],
   "source": []
  }
 ],
 "metadata": {
  "kernelspec": {
   "display_name": "base",
   "language": "python",
   "name": "python3"
  },
  "language_info": {
   "codemirror_mode": {
    "name": "ipython",
    "version": 3
   },
   "file_extension": ".py",
   "mimetype": "text/x-python",
   "name": "python",
   "nbconvert_exporter": "python",
   "pygments_lexer": "ipython3",
   "version": "3.9.19"
  }
 },
 "nbformat": 4,
 "nbformat_minor": 2
}
